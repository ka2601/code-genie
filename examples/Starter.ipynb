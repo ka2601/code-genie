{
 "cells": [
  {
   "cell_type": "code",
   "execution_count": 1,
   "id": "31d5b7ed-6d7a-4bae-904a-52e3796b3598",
   "metadata": {},
   "outputs": [],
   "source": [
    "%load_ext autoreload\n",
    "%autoreload 2"
   ]
  },
  {
   "cell_type": "markdown",
   "id": "260d5faf-d4ea-4924-8623-af9ab1544598",
   "metadata": {},
   "source": [
    "# Started Notebook\n",
    "\n",
    "Use this notebook as a starting point for using the library."
   ]
  },
  {
   "cell_type": "markdown",
   "id": "689a2a37-b0f1-4c0a-afe7-5252f5ccca3e",
   "metadata": {},
   "source": [
    "## setup access token\n",
    "\n",
    "We're using dotenv library here, alternatively you can simply set the environment variable as:\n",
    "```\n",
    "import os\n",
    "os.environ[\"CODE_GENIE_TOKEN\"] = \"your-access-token-here\"\n",
    "```\n",
    "\n",
    "Though it is not recommended to do so as notebooks are typically shared with others and you should keep your access token private."
   ]
  },
  {
   "cell_type": "code",
   "execution_count": 2,
   "id": "80d6cc0e-f2ae-45b6-ab12-dd9362486ffc",
   "metadata": {},
   "outputs": [],
   "source": [
    "from dotenv import load_dotenv"
   ]
  },
  {
   "cell_type": "code",
   "execution_count": 3,
   "id": "4b78c990-5256-434b-9bcb-78bd1374fc6a",
   "metadata": {},
   "outputs": [
    {
     "data": {
      "text/plain": [
       "True"
      ]
     },
     "execution_count": 3,
     "metadata": {},
     "output_type": "execute_result"
    }
   ],
   "source": [
    "load_dotenv(\"../.env\")  # replace with path to your env file"
   ]
  },
  {
   "cell_type": "markdown",
   "id": "b3dc2f0a-ca73-41e8-9a50-0672d1a58bc7",
   "metadata": {},
   "source": [
    "## Create data\n",
    "\n",
    "while you should import your own dataset, we can use code-genie to generate the data for this analysis"
   ]
  },
  {
   "cell_type": "code",
   "execution_count": 4,
   "id": "d5bfbd38-e760-468b-8d14-11d18f183da8",
   "metadata": {},
   "outputs": [],
   "source": [
    "from code_genie import Genie, PandasGenie"
   ]
  },
  {
   "cell_type": "code",
   "execution_count": 5,
   "id": "91de25d6-84dd-4019-bfd9-60fe3582d169",
   "metadata": {},
   "outputs": [],
   "source": [
    "data_gen = Genie(inputs=[],\n",
    "                 instructions=[\"generate a pandas dataframe containing 100 rows with employee information with following columns:\",\n",
    "                               \"id: random employee id\",\n",
    "                               \"name: employee name\",\n",
    "                               \"salary: salary per annum in USD\",\n",
    "                               \"department: should be either engineering or product\"])"
   ]
  },
  {
   "cell_type": "code",
   "execution_count": 8,
   "id": "77a48d24-1edf-44f0-baa8-2f222cada1fe",
   "metadata": {},
   "outputs": [
    {
     "name": "stdout",
     "output_type": "stream",
     "text": [
      "import pandas as pd\n",
      "import numpy as np\n",
      "import random\n",
      "\n",
      "def generate_employee_df():\n",
      "    # generate 100 random employee ids\n",
      "    random_ids = np.random.randint(10000, 99999, 100)\n",
      "    # generate random employee names\n",
      "    names = ['John', 'Mary', 'Alice', 'Bob', 'Kate', 'Tom', 'Mike', 'Lisa']\n",
      "    random_names = [random.choice(names) + ' ' + random.choice(names) for i in range(100)]\n",
      "    # generate random salaries between $50,000 and $150,000\n",
      "    random_salaries = np.random.randint(50000, 150000, 100)\n",
      "    # generate random departments\n",
      "    departments = ['engineering', 'product']\n",
      "    random_departments = [random.choice(departments) for i in range(100)]\n",
      "    # create pandas dataframe\n",
      "    employee_df = pd.DataFrame({'id': random_ids, 'name': random_names, 'salary': random_salaries, 'department': random_departments})\n",
      "    return employee_df\n"
     ]
    }
   ],
   "source": [
    "print(data_gen.code)"
   ]
  },
  {
   "cell_type": "code",
   "execution_count": 6,
   "id": "e7f67149-b53f-4c7f-9b4b-fc7e1972391f",
   "metadata": {},
   "outputs": [
    {
     "data": {
      "text/plain": [
       "(100, 4)"
      ]
     },
     "execution_count": 6,
     "metadata": {},
     "output_type": "execute_result"
    }
   ],
   "source": [
    "df = data_gen()\n",
    "df.shape"
   ]
  },
  {
   "cell_type": "code",
   "execution_count": 7,
   "id": "9c4897c3-19f0-41ba-80c1-57b2b5aef90d",
   "metadata": {},
   "outputs": [
    {
     "data": {
      "text/html": [
       "<div>\n",
       "<style scoped>\n",
       "    .dataframe tbody tr th:only-of-type {\n",
       "        vertical-align: middle;\n",
       "    }\n",
       "\n",
       "    .dataframe tbody tr th {\n",
       "        vertical-align: top;\n",
       "    }\n",
       "\n",
       "    .dataframe thead th {\n",
       "        text-align: right;\n",
       "    }\n",
       "</style>\n",
       "<table border=\"1\" class=\"dataframe\">\n",
       "  <thead>\n",
       "    <tr style=\"text-align: right;\">\n",
       "      <th></th>\n",
       "      <th>id</th>\n",
       "      <th>name</th>\n",
       "      <th>salary</th>\n",
       "      <th>department</th>\n",
       "    </tr>\n",
       "  </thead>\n",
       "  <tbody>\n",
       "    <tr>\n",
       "      <th>0</th>\n",
       "      <td>76250</td>\n",
       "      <td>Kate Mary</td>\n",
       "      <td>84353</td>\n",
       "      <td>product</td>\n",
       "    </tr>\n",
       "    <tr>\n",
       "      <th>1</th>\n",
       "      <td>29203</td>\n",
       "      <td>Mike Bob</td>\n",
       "      <td>83663</td>\n",
       "      <td>product</td>\n",
       "    </tr>\n",
       "    <tr>\n",
       "      <th>2</th>\n",
       "      <td>49242</td>\n",
       "      <td>John Tom</td>\n",
       "      <td>108337</td>\n",
       "      <td>engineering</td>\n",
       "    </tr>\n",
       "    <tr>\n",
       "      <th>3</th>\n",
       "      <td>65459</td>\n",
       "      <td>Mike Lisa</td>\n",
       "      <td>148597</td>\n",
       "      <td>product</td>\n",
       "    </tr>\n",
       "    <tr>\n",
       "      <th>4</th>\n",
       "      <td>85965</td>\n",
       "      <td>Kate Lisa</td>\n",
       "      <td>85324</td>\n",
       "      <td>product</td>\n",
       "    </tr>\n",
       "  </tbody>\n",
       "</table>\n",
       "</div>"
      ],
      "text/plain": [
       "      id       name  salary   department\n",
       "0  76250  Kate Mary   84353      product\n",
       "1  29203   Mike Bob   83663      product\n",
       "2  49242   John Tom  108337  engineering\n",
       "3  65459  Mike Lisa  148597      product\n",
       "4  85965  Kate Lisa   85324      product"
      ]
     },
     "execution_count": 7,
     "metadata": {},
     "output_type": "execute_result"
    }
   ],
   "source": [
    "df.head()"
   ]
  },
  {
   "cell_type": "markdown",
   "id": "08e9d70d-f8eb-43e3-bec5-a549f0c64a90",
   "metadata": {},
   "source": [
    "### add missing values"
   ]
  },
  {
   "cell_type": "code",
   "execution_count": 10,
   "id": "9b04199c-2abe-4de4-a74f-eda4b14f572a",
   "metadata": {},
   "outputs": [],
   "source": [
    "data_gen_add_missing = PandasGenie(\"make salaries for around 10% of the employees missing\",\n",
    "                                   columns=list(df.columns))"
   ]
  },
  {
   "cell_type": "code",
   "execution_count": null,
   "id": "1a408205-c16d-4799-b6a2-1ff0071972cc",
   "metadata": {},
   "outputs": [],
   "source": [
    "df_missing = data_gen_add_missing(df=df)"
   ]
  }
 ],
 "metadata": {
  "kernelspec": {
   "display_name": "code-genie",
   "language": "python",
   "name": "code-genie"
  },
  "language_info": {
   "codemirror_mode": {
    "name": "ipython",
    "version": 3
   },
   "file_extension": ".py",
   "mimetype": "text/x-python",
   "name": "python",
   "nbconvert_exporter": "python",
   "pygments_lexer": "ipython3",
   "version": "3.7.9"
  }
 },
 "nbformat": 4,
 "nbformat_minor": 5
}
